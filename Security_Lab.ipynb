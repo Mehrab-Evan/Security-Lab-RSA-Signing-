{
  "nbformat": 4,
  "nbformat_minor": 0,
  "metadata": {
    "colab": {
      "provenance": []
    },
    "kernelspec": {
      "name": "python3",
      "display_name": "Python 3"
    },
    "language_info": {
      "name": "python"
    }
  },
  "cells": [
    {
      "cell_type": "code",
      "execution_count": null,
      "metadata": {
        "colab": {
          "base_uri": "https://localhost:8080/"
        },
        "id": "-nLj7FKTFuJP",
        "outputId": "b3632355-7a11-4cd3-dac7-19026204db34"
      },
      "outputs": [
        {
          "output_type": "stream",
          "name": "stdout",
          "text": [
            "$argon2id$v=19$m=65536,t=3,p=4$ZprVwC7Ly9qjEt+js16+pQ$tLl4l7AXp68HCYyd9DtuXIrFdJbTQtGJ+A/jzDs1ecA\n",
            "Password is invalid\n"
          ]
        }
      ],
      "source": [
        "# Argon Password\n",
        "# Python e direct library ache argon2 for password hashing\n",
        "# 2\n",
        "import argon2\n",
        "from argon2 import PasswordHasher\n",
        "\n",
        "\n",
        "# PasswordHasher instance or object banacchi\n",
        "ph = PasswordHasher()\n",
        "\n",
        "# Ekta password hash kortesi\n",
        "password = \"my_secure_password\"\n",
        "hashed_password = ph.hash(password)\n",
        "print(hashed_password)\n",
        "# Verify korte password matched khacche ki naa\n",
        "password_to_check = \"password_to_check\"\n",
        "try:\n",
        "    ph.verify(hashed_password, password_to_check)\n",
        "    print(\"Password is valid\")\n",
        "except argon2.exceptions.VerifyMismatchError:\n",
        "    print(\"Password is invalid\")\n"
      ]
    },
    {
      "cell_type": "code",
      "source": [
        "# Argon Password\n",
        "# Python e direct library ache argon2 for password hashing\n",
        "import argon2\n",
        "from argon2 import PasswordHasher\n",
        "\n",
        "\n",
        "# PasswordHasher instance or object banacchi\n",
        "ph = PasswordHasher()\n",
        "\n",
        "# Ekta password hash kortesi\n",
        "password = \"my_secure_password\"\n",
        "hashed_password = ph.hash(password)\n",
        "\n",
        "# Verify korte password matched khacche ki naa\n",
        "password_to_check = \"my_secure_password\"\n",
        "try:\n",
        "    ph.verify(hashed_password, password_to_check)\n",
        "    print(\"Password is valid\")\n",
        "except argon2.exceptions.VerifyMismatchError:\n",
        "    print(\"Password is invalid\")\n"
      ],
      "metadata": {
        "colab": {
          "base_uri": "https://localhost:8080/"
        },
        "id": "LC5DDg63F_2x",
        "outputId": "98f35f41-21ea-4b62-ee7a-8ea7de4a5d57"
      },
      "execution_count": null,
      "outputs": [
        {
          "output_type": "stream",
          "name": "stdout",
          "text": [
            "Password is valid\n"
          ]
        }
      ]
    },
    {
      "cell_type": "code",
      "source": [
        "# RSA\n",
        "# 1\n",
        "!pip install pycryptodome"
      ],
      "metadata": {
        "colab": {
          "base_uri": "https://localhost:8080/"
        },
        "id": "Fj18drTkGFzP",
        "outputId": "716434a8-dcbc-4195-c95b-c4c4fbf2da19"
      },
      "execution_count": null,
      "outputs": [
        {
          "output_type": "stream",
          "name": "stdout",
          "text": [
            "Collecting pycryptodome\n",
            "  Downloading pycryptodome-3.19.0-cp35-abi3-manylinux_2_17_x86_64.manylinux2014_x86_64.whl (2.1 MB)\n",
            "\u001b[2K     \u001b[90m━━━━━━━━━━━━━━━━━━━━━━━━━━━━━━━━━━━━━━━━\u001b[0m \u001b[32m2.1/2.1 MB\u001b[0m \u001b[31m13.4 MB/s\u001b[0m eta \u001b[36m0:00:00\u001b[0m\n",
            "\u001b[?25hInstalling collected packages: pycryptodome\n",
            "Successfully installed pycryptodome-3.19.0\n"
          ]
        }
      ]
    },
    {
      "cell_type": "code",
      "source": [
        "# RSA\n",
        "\n",
        "# Private ar public key ta generate kortesi\n",
        "from Crypto.PublicKey import RSA\n",
        "\n",
        "keyPair = RSA.generate(bits=1024)\n",
        "\n",
        "# n hocche modulo product of 2 primes p and q\n",
        "# e hocche public key jeita diyei shudhumatro private key ta khuje pawa jaabe\n",
        "# d hocche private key jeita diye ami public key ta secure korte paarbo\n",
        "print(f\"Public Key : (n={hex(keyPair.n)}, e={(keyPair.e)}\")\n",
        "print(f\"Private Key : (n={hex(keyPair.n)}, d={(keyPair.d)}\")\n",
        "\n",
        "# RSA Signing a message"
      ],
      "metadata": {
        "colab": {
          "base_uri": "https://localhost:8080/"
        },
        "id": "r0gA_9EWGQm-",
        "outputId": "cbb0ad8e-7831-4f02-bbe5-41de076b6584"
      },
      "execution_count": null,
      "outputs": [
        {
          "output_type": "stream",
          "name": "stdout",
          "text": [
            "Public Key : (n=0xcd4dea18bd0c07a87c88213830e839f6871863fc72be3f6a4744103ccafa718071909280fb9ba67ee2d16a17bf3017556f9d6165712c5a0d471cf2917b69955f1189cf2a46098e8b5bd78d63e977a8dbcd28475379a37e4a8b0a8ee0a9de58840bb183acd0441ec0856bae23bfb99a7a210b92d7bc8527b54fa93dc635e417fb, e=65537\n",
            "Private Key : (n=0xcd4dea18bd0c07a87c88213830e839f6871863fc72be3f6a4744103ccafa718071909280fb9ba67ee2d16a17bf3017556f9d6165712c5a0d471cf2917b69955f1189cf2a46098e8b5bd78d63e977a8dbcd28475379a37e4a8b0a8ee0a9de58840bb183acd0441ec0856bae23bfb99a7a210b92d7bc8527b54fa93dc635e417fb, d=40395299246024301356054763718035933781385659851684201207256504908425356203094894047250067306596769243243001361270063718750189829303341489126018354235628547413908508637006707641545826068328779319093096045606532961976520214789307169761125466726836763091608668121478674494574231742043291093368954078602951275945\n"
          ]
        }
      ]
    },
    {
      "cell_type": "code",
      "source": [
        "msg = b'Mehrab Evan' # Byte object\n",
        "\n",
        "from hashlib import sha512\n",
        "\n",
        "hash = int.from_bytes(sha512(msg).digest(), byteorder='big')\n",
        "signature = pow(hash, keyPair.d, keyPair.n)\n",
        "print(f\"Signature : {signature}\")\n",
        "\n",
        "# Amar signature baa message k hash kortesi muloto It's a cryptographic digital signature of the message."
      ],
      "metadata": {
        "colab": {
          "base_uri": "https://localhost:8080/"
        },
        "id": "HbOxtirqGqzf",
        "outputId": "a9728ede-1c72-48a1-ec0f-6e6bba50f4f3"
      },
      "execution_count": null,
      "outputs": [
        {
          "output_type": "stream",
          "name": "stdout",
          "text": [
            "Signature : 74547742016760416553289439240966642496401533928798512720901106756764095489533670248666140616529979991422593045388717352522134468417521033693353884768795633330652663206049065927393331012689721026359753022401659377744752506944514975319775586898840397414689461179703451145836708663781330179308100128350201853847\n"
          ]
        }
      ]
    },
    {
      "cell_type": "code",
      "source": [
        "# RSA verify the signature with another msg with the previous\n",
        "\n",
        "msg = b'Mehrab'\n",
        "hash = int.from_bytes(sha512(msg).digest(), byteorder='big')\n",
        "hashFromSignature = pow(signature, keyPair.e, keyPair.n)\n",
        "if hash ==hashFromSignature :\n",
        "    print(\"Signature is valid\")\n",
        "else :\n",
        "    print(\"Not Valid\")"
      ],
      "metadata": {
        "colab": {
          "base_uri": "https://localhost:8080/"
        },
        "id": "Y4JXRFWBGyae",
        "outputId": "7159d2db-ebc9-4d53-df01-58b51d42a516"
      },
      "execution_count": null,
      "outputs": [
        {
          "output_type": "stream",
          "name": "stdout",
          "text": [
            "Not Valid\n"
          ]
        }
      ]
    },
    {
      "cell_type": "code",
      "source": [
        "# RSA verify the signature with another msg with the previous\n",
        "\n",
        "msg = b'Mehrab Evan'\n",
        "hash = int.from_bytes(sha512(msg).digest(), byteorder='big')\n",
        "hashFromSignature = pow(signature, keyPair.e, keyPair.n)\n",
        "if hash ==hashFromSignature :\n",
        "    print(\"Signature is valid\")\n",
        "else :\n",
        "    print(\"Not Valid\")"
      ],
      "metadata": {
        "colab": {
          "base_uri": "https://localhost:8080/"
        },
        "id": "Bh0y5vhsHK2-",
        "outputId": "81444c1a-45ca-4364-a561-a6637cd838e9"
      },
      "execution_count": null,
      "outputs": [
        {
          "output_type": "stream",
          "name": "stdout",
          "text": [
            "Signature is valid\n"
          ]
        }
      ]
    },
    {
      "cell_type": "code",
      "source": [
        "# RSA verify the signature\n",
        "msg = b'Mehrab Evan'\n",
        "hash = int.from_bytes(sha512(msg).digest(), byteorder='big')\n",
        "\n",
        "# Simulate tampering by changing one bit in the public key (e value)\n",
        "tampered_public_key = keyPair.n, keyPair.e + 1\n",
        "hashFromSignature = pow(signature, tampered_public_key[1], tampered_public_key[0])\n",
        "# JOKHN PUBLIC KEY OR PRIVAE KEY TE GENJAM KORE FELBO TOKHN TAMPERING KORBE\n",
        "if hash == hashFromSignature:\n",
        "    print(\"Signature is valid\")\n",
        "else:\n",
        "    print(\"Signature is not valid (due to tampering)\")"
      ],
      "metadata": {
        "colab": {
          "base_uri": "https://localhost:8080/"
        },
        "id": "TR5ndTo8JdUk",
        "outputId": "1354e594-1ae5-4fc7-a27b-d5aa24e6935f"
      },
      "execution_count": null,
      "outputs": [
        {
          "output_type": "stream",
          "name": "stdout",
          "text": [
            "Signature is not valid (due to tampering)\n"
          ]
        }
      ]
    },
    {
      "cell_type": "code",
      "source": [
        "# Encryption hashing method.. this is a part of the hashlib library\n",
        "# 1\n",
        "import hashlib\n",
        "\n",
        "# Create a string to be hashed\n",
        "data = \"Hello, World!\"\n",
        "\n",
        "# Create a hashlib object with the SHA-256 algorithm\n",
        "hash_object = hashlib.sha256()\n",
        "\n",
        "# Update the hash object with the data to be hashed (must be in bytes)\n",
        "hash_object.update(data.encode('utf-8'))\n",
        "\n",
        "# Get the hexadecimal representation of the hashed data\n",
        "hashed_data = hash_object.hexdigest()\n",
        "\n",
        "print(\"Original Data:\", data)\n",
        "print(\"Hashed Data (SHA-256):\", hashed_data)\n"
      ],
      "metadata": {
        "colab": {
          "base_uri": "https://localhost:8080/"
        },
        "id": "cShcQdE1HM_2",
        "outputId": "e0be4a1d-eb02-4e64-d676-6d9c795bcca1"
      },
      "execution_count": null,
      "outputs": [
        {
          "output_type": "stream",
          "name": "stdout",
          "text": [
            "Original Data: Hello, World!\n",
            "Hashed Data (SHA-256): dffd6021bb2bd5b0af676290809ec3a53191dd81c7f70a4b28688a362182986f\n"
          ]
        }
      ]
    },
    {
      "cell_type": "code",
      "source": [
        "!pip install psycopg2\n",
        "!!pip install psycopg2-binary\n"
      ],
      "metadata": {
        "colab": {
          "base_uri": "https://localhost:8080/",
          "height": 321
        },
        "id": "38DQTyiR49rx",
        "outputId": "9bc4ecdd-3e7b-45a0-82f9-43a369cc0065"
      },
      "execution_count": null,
      "outputs": [
        {
          "output_type": "stream",
          "name": "stdout",
          "text": [
            "Requirement already satisfied: psycopg2 in /usr/local/lib/python3.10/dist-packages (2.9.9)\n"
          ]
        },
        {
          "output_type": "display_data",
          "data": {
            "application/vnd.colab-display-data+json": {
              "pip_warning": {
                "packages": [
                  "psycopg2"
                ]
              }
            }
          },
          "metadata": {}
        },
        {
          "output_type": "execute_result",
          "data": {
            "text/plain": [
              "['Collecting psycopg2-binary',\n",
              " '  Downloading psycopg2_binary-2.9.9-cp310-cp310-manylinux_2_17_x86_64.manylinux2014_x86_64.whl (3.0 MB)',\n",
              " '\\x1b[?25l     \\x1b[90m━━━━━━━━━━━━━━━━━━━━━━━━━━━━━━━━━━━━━━━━\\x1b[0m \\x1b[32m0.0/3.0 MB\\x1b[0m \\x1b[31m?\\x1b[0m eta \\x1b[36m-:--:--\\x1b[0m',\n",
              " '\\x1b[2K     \\x1b[91m━\\x1b[0m\\x1b[90m╺\\x1b[0m\\x1b[90m━━━━━━━━━━━━━━━━━━━━━━━━━━━━━━━━━━━━━━\\x1b[0m \\x1b[32m0.1/3.0 MB\\x1b[0m \\x1b[31m2.7 MB/s\\x1b[0m eta \\x1b[36m0:00:02\\x1b[0m',\n",
              " '\\x1b[2K     \\x1b[91m━━━━━━\\x1b[0m\\x1b[91m╸\\x1b[0m\\x1b[90m━━━━━━━━━━━━━━━━━━━━━━━━━━━━━━━━━\\x1b[0m \\x1b[32m0.5/3.0 MB\\x1b[0m \\x1b[31m7.4 MB/s\\x1b[0m eta \\x1b[36m0:00:01\\x1b[0m',\n",
              " '\\x1b[2K     \\x1b[91m━━━━━━━━━━━━━━━\\x1b[0m\\x1b[90m╺\\x1b[0m\\x1b[90m━━━━━━━━━━━━━━━━━━━━━━━━\\x1b[0m \\x1b[32m1.1/3.0 MB\\x1b[0m \\x1b[31m11.1 MB/s\\x1b[0m eta \\x1b[36m0:00:01\\x1b[0m',\n",
              " '\\x1b[2K     \\x1b[91m━━━━━━━━━━━━━━━━━━━━━━━━━━━\\x1b[0m\\x1b[90m╺\\x1b[0m\\x1b[90m━━━━━━━━━━━━\\x1b[0m \\x1b[32m2.0/3.0 MB\\x1b[0m \\x1b[31m14.8 MB/s\\x1b[0m eta \\x1b[36m0:00:01\\x1b[0m',\n",
              " '\\x1b[2K     \\x1b[91m━━━━━━━━━━━━━━━━━━━━━━━━━━━━━━━━━━━━━━━\\x1b[0m\\x1b[91m╸\\x1b[0m \\x1b[32m3.0/3.0 MB\\x1b[0m \\x1b[31m18.0 MB/s\\x1b[0m eta \\x1b[36m0:00:01\\x1b[0m',\n",
              " '\\x1b[2K     \\x1b[90m━━━━━━━━━━━━━━━━━━━━━━━━━━━━━━━━━━━━━━━━\\x1b[0m \\x1b[32m3.0/3.0 MB\\x1b[0m \\x1b[31m15.7 MB/s\\x1b[0m eta \\x1b[36m0:00:00\\x1b[0m',\n",
              " '\\x1b[?25hInstalling collected packages: psycopg2-binary',\n",
              " 'Successfully installed psycopg2-binary-2.9.9']"
            ]
          },
          "metadata": {},
          "execution_count": 16
        }
      ]
    },
    {
      "cell_type": "code",
      "source": [],
      "metadata": {
        "colab": {
          "base_uri": "https://localhost:8080/",
          "height": 373
        },
        "id": "CPfJ4rz06jmf",
        "outputId": "512e6ed5-9aea-4a72-ffd9-35822fa0d599"
      },
      "execution_count": null,
      "outputs": [
        {
          "output_type": "error",
          "ename": "FileNotFoundError",
          "evalue": "ignored",
          "traceback": [
            "\u001b[0;31m---------------------------------------------------------------------------\u001b[0m",
            "\u001b[0;31mFileNotFoundError\u001b[0m                         Traceback (most recent call last)",
            "\u001b[0;32m<ipython-input-18-916ed42b2915>\u001b[0m in \u001b[0;36m<cell line: 10>\u001b[0;34m()\u001b[0m\n\u001b[1;32m      8\u001b[0m ]\n\u001b[1;32m      9\u001b[0m \u001b[0;34m\u001b[0m\u001b[0m\n\u001b[0;32m---> 10\u001b[0;31m \u001b[0msubprocess\u001b[0m\u001b[0;34m.\u001b[0m\u001b[0mrun\u001b[0m\u001b[0;34m(\u001b[0m\u001b[0mpostgres_server_cmd\u001b[0m\u001b[0;34m)\u001b[0m\u001b[0;34m\u001b[0m\u001b[0;34m\u001b[0m\u001b[0m\n\u001b[0m",
            "\u001b[0;32m/usr/lib/python3.10/subprocess.py\u001b[0m in \u001b[0;36mrun\u001b[0;34m(input, capture_output, timeout, check, *popenargs, **kwargs)\u001b[0m\n\u001b[1;32m    501\u001b[0m         \u001b[0mkwargs\u001b[0m\u001b[0;34m[\u001b[0m\u001b[0;34m'stderr'\u001b[0m\u001b[0;34m]\u001b[0m \u001b[0;34m=\u001b[0m \u001b[0mPIPE\u001b[0m\u001b[0;34m\u001b[0m\u001b[0;34m\u001b[0m\u001b[0m\n\u001b[1;32m    502\u001b[0m \u001b[0;34m\u001b[0m\u001b[0m\n\u001b[0;32m--> 503\u001b[0;31m     \u001b[0;32mwith\u001b[0m \u001b[0mPopen\u001b[0m\u001b[0;34m(\u001b[0m\u001b[0;34m*\u001b[0m\u001b[0mpopenargs\u001b[0m\u001b[0;34m,\u001b[0m \u001b[0;34m**\u001b[0m\u001b[0mkwargs\u001b[0m\u001b[0;34m)\u001b[0m \u001b[0;32mas\u001b[0m \u001b[0mprocess\u001b[0m\u001b[0;34m:\u001b[0m\u001b[0;34m\u001b[0m\u001b[0;34m\u001b[0m\u001b[0m\n\u001b[0m\u001b[1;32m    504\u001b[0m         \u001b[0;32mtry\u001b[0m\u001b[0;34m:\u001b[0m\u001b[0;34m\u001b[0m\u001b[0;34m\u001b[0m\u001b[0m\n\u001b[1;32m    505\u001b[0m             \u001b[0mstdout\u001b[0m\u001b[0;34m,\u001b[0m \u001b[0mstderr\u001b[0m \u001b[0;34m=\u001b[0m \u001b[0mprocess\u001b[0m\u001b[0;34m.\u001b[0m\u001b[0mcommunicate\u001b[0m\u001b[0;34m(\u001b[0m\u001b[0minput\u001b[0m\u001b[0;34m,\u001b[0m \u001b[0mtimeout\u001b[0m\u001b[0;34m=\u001b[0m\u001b[0mtimeout\u001b[0m\u001b[0;34m)\u001b[0m\u001b[0;34m\u001b[0m\u001b[0;34m\u001b[0m\u001b[0m\n",
            "\u001b[0;32m/usr/lib/python3.10/subprocess.py\u001b[0m in \u001b[0;36m__init__\u001b[0;34m(self, args, bufsize, executable, stdin, stdout, stderr, preexec_fn, close_fds, shell, cwd, env, universal_newlines, startupinfo, creationflags, restore_signals, start_new_session, pass_fds, user, group, extra_groups, encoding, errors, text, umask, pipesize)\u001b[0m\n\u001b[1;32m    969\u001b[0m                             encoding=encoding, errors=errors)\n\u001b[1;32m    970\u001b[0m \u001b[0;34m\u001b[0m\u001b[0m\n\u001b[0;32m--> 971\u001b[0;31m             self._execute_child(args, executable, preexec_fn, close_fds,\n\u001b[0m\u001b[1;32m    972\u001b[0m                                 \u001b[0mpass_fds\u001b[0m\u001b[0;34m,\u001b[0m \u001b[0mcwd\u001b[0m\u001b[0;34m,\u001b[0m \u001b[0menv\u001b[0m\u001b[0;34m,\u001b[0m\u001b[0;34m\u001b[0m\u001b[0;34m\u001b[0m\u001b[0m\n\u001b[1;32m    973\u001b[0m                                 \u001b[0mstartupinfo\u001b[0m\u001b[0;34m,\u001b[0m \u001b[0mcreationflags\u001b[0m\u001b[0;34m,\u001b[0m \u001b[0mshell\u001b[0m\u001b[0;34m,\u001b[0m\u001b[0;34m\u001b[0m\u001b[0;34m\u001b[0m\u001b[0m\n",
            "\u001b[0;32m/usr/lib/python3.10/subprocess.py\u001b[0m in \u001b[0;36m_execute_child\u001b[0;34m(self, args, executable, preexec_fn, close_fds, pass_fds, cwd, env, startupinfo, creationflags, shell, p2cread, p2cwrite, c2pread, c2pwrite, errread, errwrite, restore_signals, gid, gids, uid, umask, start_new_session)\u001b[0m\n\u001b[1;32m   1861\u001b[0m                     \u001b[0;32mif\u001b[0m \u001b[0merrno_num\u001b[0m \u001b[0;34m!=\u001b[0m \u001b[0;36m0\u001b[0m\u001b[0;34m:\u001b[0m\u001b[0;34m\u001b[0m\u001b[0;34m\u001b[0m\u001b[0m\n\u001b[1;32m   1862\u001b[0m                         \u001b[0merr_msg\u001b[0m \u001b[0;34m=\u001b[0m \u001b[0mos\u001b[0m\u001b[0;34m.\u001b[0m\u001b[0mstrerror\u001b[0m\u001b[0;34m(\u001b[0m\u001b[0merrno_num\u001b[0m\u001b[0;34m)\u001b[0m\u001b[0;34m\u001b[0m\u001b[0;34m\u001b[0m\u001b[0m\n\u001b[0;32m-> 1863\u001b[0;31m                     \u001b[0;32mraise\u001b[0m \u001b[0mchild_exception_type\u001b[0m\u001b[0;34m(\u001b[0m\u001b[0merrno_num\u001b[0m\u001b[0;34m,\u001b[0m \u001b[0merr_msg\u001b[0m\u001b[0;34m,\u001b[0m \u001b[0merr_filename\u001b[0m\u001b[0;34m)\u001b[0m\u001b[0;34m\u001b[0m\u001b[0;34m\u001b[0m\u001b[0m\n\u001b[0m\u001b[1;32m   1864\u001b[0m                 \u001b[0;32mraise\u001b[0m \u001b[0mchild_exception_type\u001b[0m\u001b[0;34m(\u001b[0m\u001b[0merr_msg\u001b[0m\u001b[0;34m)\u001b[0m\u001b[0;34m\u001b[0m\u001b[0;34m\u001b[0m\u001b[0m\n\u001b[1;32m   1865\u001b[0m \u001b[0;34m\u001b[0m\u001b[0m\n",
            "\u001b[0;31mFileNotFoundError\u001b[0m: [Errno 2] No such file or directory: 'pg_ctl'"
          ]
        }
      ]
    },
    {
      "cell_type": "code",
      "source": [
        "import argon2\n",
        "from argon2 import PasswordHasher\n",
        "# Create a PasswordHasher instance\n",
        "ph = PasswordHasher()\n",
        "\n",
        "import psycopg2\n",
        "from psycopg2 import sql\n",
        "import os\n",
        "\n",
        "# Establish a connection to the PostgreSQL databa\n",
        "password = \"my_secure_password\"\n",
        "hashed_password = ph.hash(password)\n",
        "\n",
        "insert_hash(2, hash)\n",
        "\n",
        "\n",
        "# Verify if a password matches the hashed password\n",
        "password_to_check = \"my_secure_password\"\n",
        "try:\n",
        "    ph.verify(hashed_password, password_to_check)\n",
        "    print(\"Password is valid\")\n",
        "except argon2.exceptions.VerifyMismatchError:\n",
        "    print(\"Password is invalid\")"
      ],
      "metadata": {
        "id": "x2rMHQaeIK2F",
        "colab": {
          "base_uri": "https://localhost:8080/",
          "height": 366
        },
        "outputId": "e7006084-a752-4fe0-e35e-c0bfb16562fe"
      },
      "execution_count": null,
      "outputs": [
        {
          "output_type": "error",
          "ename": "OperationalError",
          "evalue": "ignored",
          "traceback": [
            "\u001b[0;31m---------------------------------------------------------------------------\u001b[0m",
            "\u001b[0;31mOperationalError\u001b[0m                          Traceback (most recent call last)",
            "\u001b[0;32m<ipython-input-19-384258c6fa22>\u001b[0m in \u001b[0;36m<cell line: 11>\u001b[0;34m()\u001b[0m\n\u001b[1;32m      9\u001b[0m \u001b[0;34m\u001b[0m\u001b[0m\n\u001b[1;32m     10\u001b[0m \u001b[0;31m# Establish a connection to the PostgreSQL database\u001b[0m\u001b[0;34m\u001b[0m\u001b[0;34m\u001b[0m\u001b[0m\n\u001b[0;32m---> 11\u001b[0;31m conn = psycopg2.connect(\n\u001b[0m\u001b[1;32m     12\u001b[0m     \u001b[0mdatabase\u001b[0m\u001b[0;34m=\u001b[0m\u001b[0;34m\"mehrab_evan\"\u001b[0m\u001b[0;34m,\u001b[0m\u001b[0;34m\u001b[0m\u001b[0;34m\u001b[0m\u001b[0m\n\u001b[1;32m     13\u001b[0m     \u001b[0muser\u001b[0m\u001b[0;34m=\u001b[0m\u001b[0;34m\"postgres\"\u001b[0m\u001b[0;34m,\u001b[0m\u001b[0;34m\u001b[0m\u001b[0;34m\u001b[0m\u001b[0m\n",
            "\u001b[0;32m/usr/local/lib/python3.10/dist-packages/psycopg2/__init__.py\u001b[0m in \u001b[0;36mconnect\u001b[0;34m(dsn, connection_factory, cursor_factory, **kwargs)\u001b[0m\n\u001b[1;32m    120\u001b[0m \u001b[0;34m\u001b[0m\u001b[0m\n\u001b[1;32m    121\u001b[0m     \u001b[0mdsn\u001b[0m \u001b[0;34m=\u001b[0m \u001b[0m_ext\u001b[0m\u001b[0;34m.\u001b[0m\u001b[0mmake_dsn\u001b[0m\u001b[0;34m(\u001b[0m\u001b[0mdsn\u001b[0m\u001b[0;34m,\u001b[0m \u001b[0;34m**\u001b[0m\u001b[0mkwargs\u001b[0m\u001b[0;34m)\u001b[0m\u001b[0;34m\u001b[0m\u001b[0;34m\u001b[0m\u001b[0m\n\u001b[0;32m--> 122\u001b[0;31m     \u001b[0mconn\u001b[0m \u001b[0;34m=\u001b[0m \u001b[0m_connect\u001b[0m\u001b[0;34m(\u001b[0m\u001b[0mdsn\u001b[0m\u001b[0;34m,\u001b[0m \u001b[0mconnection_factory\u001b[0m\u001b[0;34m=\u001b[0m\u001b[0mconnection_factory\u001b[0m\u001b[0;34m,\u001b[0m \u001b[0;34m**\u001b[0m\u001b[0mkwasync\u001b[0m\u001b[0;34m)\u001b[0m\u001b[0;34m\u001b[0m\u001b[0;34m\u001b[0m\u001b[0m\n\u001b[0m\u001b[1;32m    123\u001b[0m     \u001b[0;32mif\u001b[0m \u001b[0mcursor_factory\u001b[0m \u001b[0;32mis\u001b[0m \u001b[0;32mnot\u001b[0m \u001b[0;32mNone\u001b[0m\u001b[0;34m:\u001b[0m\u001b[0;34m\u001b[0m\u001b[0;34m\u001b[0m\u001b[0m\n\u001b[1;32m    124\u001b[0m         \u001b[0mconn\u001b[0m\u001b[0;34m.\u001b[0m\u001b[0mcursor_factory\u001b[0m \u001b[0;34m=\u001b[0m \u001b[0mcursor_factory\u001b[0m\u001b[0;34m\u001b[0m\u001b[0;34m\u001b[0m\u001b[0m\n",
            "\u001b[0;31mOperationalError\u001b[0m: could not translate host name \"https://c3a3-103-121-12-220.ngrok-free.app\" to address: Name or service not known\n"
          ]
        }
      ]
    },
    {
      "cell_type": "code",
      "source": [],
      "metadata": {
        "id": "FxcGXhfS4x1Z"
      },
      "execution_count": null,
      "outputs": []
    }
  ]
}